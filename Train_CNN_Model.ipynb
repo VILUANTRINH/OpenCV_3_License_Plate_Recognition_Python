{
 "cells": [
  {
   "cell_type": "code",
   "execution_count": null,
   "metadata": {
    "colab": {
     "autoexec": {
      "startup": false,
      "wait_interval": 0.0
     },
     "base_uri": "https://localhost:8080/",
     "height": 350.0,
     "output_extras": [
      {
       "item_id": 1.0
      }
     ]
    },
    "colab_type": "code",
    "executionInfo": {
     "elapsed": 3233.0,
     "status": "error",
     "timestamp": 1.5216997998E12,
     "user": {
      "displayName": "Tung Nguyen Dinh",
      "photoUrl": "//lh3.googleusercontent.com/-Nztn065aJ4Y/AAAAAAAAAAI/AAAAAAAAAAc/7mgFwNJ8bA0/s50-c-k-no/photo.jpg",
      "userId": "103251380706581023835"
     },
     "user_tz": -420.0
    },
    "id": "MJnjDENH7l_n",
    "outputId": "8a653ffb-1d18-4573-aa51-7c836ace7deb"
   },
   "outputs": [],
   "source": [
    "# Run module on Google Colab\n",
    "from __future__ import division, print_function, absolute_import\n",
    "\n",
    "import tensorflow as tf\n",
    "import tensorflow.contrib.eager as tfe\n",
    "import numpy as np\n",
    "import os\n",
    "import pandas as pd\n",
    "import matplotlib.pyplot as plt\n",
    "from sklearn.model_selection import train_test_split\n",
    "%matplotlib inline\n",
    "tfe.enable_eager_execution()\n",
    "\n",
    "import psutil\n",
    "process = psutil.Process(os.getpid())"
   ]
  },
  {
   "cell_type": "code",
   "execution_count": null,
   "metadata": {
    "colab": {
     "autoexec": {
      "startup": false,
      "wait_interval": 0.0
     },
     "base_uri": "https://localhost:8080/",
     "height": 233.0,
     "output_extras": [
      {
       "item_id": 1.0
      }
     ]
    },
    "colab_type": "code",
    "executionInfo": {
     "elapsed": 23915.0,
     "status": "ok",
     "timestamp": 1.521684191344E12,
     "user": {
      "displayName": "Tung Nguyen Dinh",
      "photoUrl": "//lh3.googleusercontent.com/-Nztn065aJ4Y/AAAAAAAAAAI/AAAAAAAAAAc/7mgFwNJ8bA0/s50-c-k-no/photo.jpg",
      "userId": "103251380706581023835"
     },
     "user_tz": -420.0
    },
    "id": "kmWgFbKIHj_h",
    "outputId": "8c3fb0c0-5abe-44f6-ec6f-149559daa88c"
   },
   "outputs": [],
   "source": [
    "import os\n",
    "os.chdir(\"drive/Colab Notebooks/Characters\")\n",
    "\n",
    "\n",
    "data = pd.read_csv(\"./Data/chars.csv\", header=None)\n",
    "display(data.head())"
   ]
  },
  {
   "cell_type": "code",
   "execution_count": null,
   "metadata": {
    "colab": {
     "autoexec": {
      "startup": false,
      "wait_interval": 0.0
     },
     "base_uri": "https://localhost:8080/",
     "height": 353.0,
     "output_extras": [
      {
       "item_id": 1.0
      },
      {
       "item_id": 2.0
      },
      {
       "item_id": 3.0
      }
     ]
    },
    "colab_type": "code",
    "executionInfo": {
     "elapsed": 697.0,
     "status": "ok",
     "timestamp": 1.521699813723E12,
     "user": {
      "displayName": "Tung Nguyen Dinh",
      "photoUrl": "//lh3.googleusercontent.com/-Nztn065aJ4Y/AAAAAAAAAAI/AAAAAAAAAAc/7mgFwNJ8bA0/s50-c-k-no/photo.jpg",
      "userId": "103251380706581023835"
     },
     "user_tz": -420.0
    },
    "id": "rqwEu2DTOYrY",
    "outputId": "b0e1cdef-c64e-4cdf-dd71-be5eb618a69e"
   },
   "outputs": [],
   "source": [
    "# Check image source\n",
    "i = 1\n",
    "im = np.asarray(data.iloc[i, 1:], dtype=np.float32).reshape(28,28)\n",
    "plt.imshow(im)\n",
    "plt.show()\n",
    "\n",
    "logits = model(im)\n",
    "y = tf.argmax(tf.nn.softmax(logits), axis = 1)\n",
    "print(\"\\nThe Character is:\", le.inverse_transform(y.numpy()))"
   ]
  },
  {
   "cell_type": "code",
   "execution_count": null,
   "metadata": {
    "colab": {
     "autoexec": {
      "startup": false,
      "wait_interval": 0.0
     },
     "base_uri": "https://localhost:8080/",
     "height": 102.0,
     "output_extras": [
      {
       "item_id": 1.0
      }
     ]
    },
    "colab_type": "code",
    "executionInfo": {
     "elapsed": 1156.0,
     "status": "ok",
     "timestamp": 1.521684193531E12,
     "user": {
      "displayName": "Tung Nguyen Dinh",
      "photoUrl": "//lh3.googleusercontent.com/-Nztn065aJ4Y/AAAAAAAAAAI/AAAAAAAAAAc/7mgFwNJ8bA0/s50-c-k-no/photo.jpg",
      "userId": "103251380706581023835"
     },
     "user_tz": -420.0
    },
    "id": "RCC-N2h77l_x",
    "outputId": "9cb322b9-b0bc-4c5f-8203-f590cace8c00"
   },
   "outputs": [],
   "source": [
    "images = data.iloc[:, 1:]\n",
    "labels = data.iloc[:, 0]\n",
    "# fix wrong label\n",
    "labels[labels == 'y'] = 'Y'"
   ]
  },
  {
   "cell_type": "code",
   "execution_count": null,
   "metadata": {
    "colab": {
     "autoexec": {
      "startup": false,
      "wait_interval": 0.0
     },
     "base_uri": "https://localhost:8080/",
     "height": 51.0,
     "output_extras": [
      {
       "item_id": 1.0
      }
     ]
    },
    "colab_type": "code",
    "executionInfo": {
     "elapsed": 558.0,
     "status": "ok",
     "timestamp": 1.521684194395E12,
     "user": {
      "displayName": "Tung Nguyen Dinh",
      "photoUrl": "//lh3.googleusercontent.com/-Nztn065aJ4Y/AAAAAAAAAAI/AAAAAAAAAAc/7mgFwNJ8bA0/s50-c-k-no/photo.jpg",
      "userId": "103251380706581023835"
     },
     "user_tz": -420.0
    },
    "id": "uxdWMqHN7l_1",
    "outputId": "05e0ddc4-f4aa-417c-9019-07db2c980b7f"
   },
   "outputs": [],
   "source": [
    "from sklearn import preprocessing\n",
    "le = preprocessing.LabelEncoder()\n",
    "le.fit(labels)\n",
    "print(le.classes_)\n",
    "labels = le.transform(labels)"
   ]
  },
  {
   "cell_type": "code",
   "execution_count": null,
   "metadata": {
    "colab": {
     "autoexec": {
      "startup": false,
      "wait_interval": 0.0
     }
    },
    "colab_type": "code",
    "id": "ZarOaS5H7l_5"
   },
   "outputs": [],
   "source": [
    "length = len(labels)\n",
    "images = np.asarray(images, dtype=np.float32)\n",
    "labels = np.asarray(labels, dtype=np.int64)\n",
    "\n",
    "x_train, x_test, y_train, y_test = train_test_split(images, labels, test_size = 0.2)\n",
    "x_train, x_val, y_train, y_val = train_test_split(x_train, y_train, test_size = 0.2)"
   ]
  },
  {
   "cell_type": "code",
   "execution_count": null,
   "metadata": {
    "colab": {
     "autoexec": {
      "startup": false,
      "wait_interval": 0.0
     }
    },
    "colab_type": "code",
    "id": "IC0k_vxS7l__"
   },
   "outputs": [],
   "source": [
    "def random_batch(x_train, y_train, batch_size):\n",
    "    rnd_indices = np.random.randint(0, len(x_train), batch_size)\n",
    "    x_batch = x_train[rnd_indices]\n",
    "    y_batch = y_train[rnd_indices]\n",
    "    return x_batch, y_batch"
   ]
  },
  {
   "cell_type": "code",
   "execution_count": null,
   "metadata": {
    "colab": {
     "autoexec": {
      "startup": false,
      "wait_interval": 0.0
     }
    },
    "colab_type": "code",
    "id": "XjHFYqXx7mAE"
   },
   "outputs": [],
   "source": [
    "# Training Parameters\n",
    "batch_size = 370\n",
    "dropout_rate = 0.1\n",
    "\n",
    "# Network Parameters\n",
    "height, width = 28, 28\n",
    "num_classes = 36"
   ]
  },
  {
   "cell_type": "code",
   "execution_count": null,
   "metadata": {
    "colab": {
     "autoexec": {
      "startup": false,
      "wait_interval": 0.0
     }
    },
    "colab_type": "code",
    "id": "EV-3w_NB7mAI"
   },
   "outputs": [],
   "source": [
    "class CNN_Model(tfe.Network):\n",
    "  def __init__(self):\n",
    "    super(CNN_Model, self).__init__()\n",
    "    self.conv1 = self.track_layer(tf.layers.Conv2D(32, 5, activation = tf.nn.relu, padding = \"SAME\"))\n",
    "    self.pool1 = self.track_layer(tf.layers.MaxPooling2D(2, 2))\n",
    "    self.conv2 = self.track_layer(tf.layers.Conv2D(64, 5, activation = tf.nn.relu, padding = \"SAME\"))\n",
    "    self.pool2 = self.track_layer(tf.layers.MaxPooling2D(2, 2))\n",
    "    self.flatten = self.track_layer(tf.layers.Flatten())\n",
    "    self.fc1 = self.track_layer(tf.layers.Dense(256, activation = tf.nn.relu))\n",
    "    self.dropout = self.track_layer(tf.layers.Dropout(0.75))\n",
    "    self.fc2 = self.track_layer(tf.layers.Dense(num_classes, activation = None))\n",
    "    \n",
    "  def call(self, input):\n",
    "    input = tf.reshape(input, [-1, 28, 28, 1])\n",
    "    result = self.conv1(input)\n",
    "    result = self.pool1(result)\n",
    "    result = self.conv2(result)\n",
    "    result = self.flatten(result)\n",
    "    result = self.fc1(result)\n",
    "    result = self.dropout(result)\n",
    "    result = self.fc2(result)\n",
    "    return result"
   ]
  },
  {
   "cell_type": "code",
   "execution_count": null,
   "metadata": {
    "colab": {
     "autoexec": {
      "startup": false,
      "wait_interval": 0.0
     }
    },
    "colab_type": "code",
    "id": "5Fn2n0YM7mAN"
   },
   "outputs": [],
   "source": [
    "def get_accuracy(logits, y_true, test=False):\n",
    "  global acc_list\n",
    "  y_pred = tf.argmax(tf.nn.softmax(logits), axis = 1)\n",
    "  correct = tf.equal(y_pred, y_true)\n",
    "  accuracy = tf.reduce_mean(tf.cast(correct, tf.float32))\n",
    "#   print(process.memory_info().rss/(10**9))\n",
    "  if not test:\n",
    "    acc_list = np.append(acc_list, [[step, accuracy]], axis=0)\n",
    "    print(\"step {}:\\taccuracy = {}\".format(step, accuracy))\n",
    "  else:\n",
    "    print(\"Test accuracy = {}\".format(accuracy))  \n",
    "  \n",
    "def loss_function(step, model, x, y_true):\n",
    "  logits = model(x)\n",
    "  xentropy = tf.nn.sparse_softmax_cross_entropy_with_logits(logits=logits, labels=y_true)\n",
    "  loss = tf.reduce_mean(xentropy)\n",
    "  \n",
    "  if step % verbose_interval == 0:\n",
    "    get_accuracy(logits, y_true)\n",
    "  \n",
    "  return loss"
   ]
  },
  {
   "cell_type": "code",
   "execution_count": null,
   "metadata": {
    "colab": {
     "autoexec": {
      "startup": false,
      "wait_interval": 0.0
     },
     "base_uri": "https://localhost:8080/",
     "height": 714.0,
     "output_extras": [
      {
       "item_id": 21.0
      }
     ]
    },
    "colab_type": "code",
    "executionInfo": {
     "elapsed": 216307.0,
     "status": "ok",
     "timestamp": 1.521684418102E12,
     "user": {
      "displayName": "Tung Nguyen Dinh",
      "photoUrl": "//lh3.googleusercontent.com/-Nztn065aJ4Y/AAAAAAAAAAI/AAAAAAAAAAc/7mgFwNJ8bA0/s50-c-k-no/photo.jpg",
      "userId": "103251380706581023835"
     },
     "user_tz": -420.0
    },
    "id": "da5Dmw1wTNmz",
    "outputId": "330af052-0949-49d4-cc99-c914dcb17c98"
   },
   "outputs": [],
   "source": [
    "# Train model\n",
    "start = 1\n",
    "num_steps = 200\n",
    "verbose_interval = 10\n",
    "learning_rate = 0.001\n",
    "\n",
    "acc_list = np.array([[0, 0]])\n",
    "model = CNN_Model()\n",
    "optimizer = tf.train.AdamOptimizer(learning_rate)\n",
    "\n",
    "for step in range(start, num_steps + start):\n",
    "  batch_x, batch_y = random_batch(x_train, y_train, batch_size)\n",
    "  batch_x = tf.constant(batch_x)\n",
    "  batch_y = tf.constant(batch_y)\n",
    "#   print(batch_y)\n",
    "  optimizer.minimize(lambda: loss_function(step, model, batch_x, batch_y))\n",
    "\n",
    "print(\"Optimization Finished!\")\n",
    "start = start + num_steps"
   ]
  },
  {
   "cell_type": "code",
   "execution_count": null,
   "metadata": {
    "colab": {
     "autoexec": {
      "startup": false,
      "wait_interval": 0.0
     },
     "base_uri": "https://localhost:8080/",
     "height": 119.0,
     "output_extras": [
      {
       "item_id": 6.0
      }
     ]
    },
    "colab_type": "code",
    "executionInfo": {
     "elapsed": 69810.0,
     "status": "ok",
     "timestamp": 1.521699915999E12,
     "user": {
      "displayName": "Tung Nguyen Dinh",
      "photoUrl": "//lh3.googleusercontent.com/-Nztn065aJ4Y/AAAAAAAAAAI/AAAAAAAAAAc/7mgFwNJ8bA0/s50-c-k-no/photo.jpg",
      "userId": "103251380706581023835"
     },
     "user_tz": -420.0
    },
    "id": "fs3QKOamkD7G",
    "outputId": "d21adb79-a53a-4ee0-d9d7-0591a4d7073a"
   },
   "outputs": [],
   "source": [
    "# Additional run to optimize if needed\n",
    "learning_rate = 0.0001\n",
    "steps = 50\n",
    "verbose_interval = 10\n",
    "batch_size = 500\n",
    "optimizer = tf.train.AdamOptimizer(learning_rate)\n",
    "\n",
    "for step in range(start, start + steps +1):\n",
    "  batch_x, batch_y = random_batch(x_train, y_train, batch_size)\n",
    "  batch_x = tf.constant(batch_x)\n",
    "  batch_y = tf.constant(batch_y)\n",
    "  optimizer.minimize(lambda: loss_function(step, model, batch_x, batch_y))\n",
    "\n",
    "start = start + num_steps"
   ]
  },
  {
   "cell_type": "code",
   "execution_count": null,
   "metadata": {
    "colab": {
     "autoexec": {
      "startup": false,
      "wait_interval": 0.0
     },
     "base_uri": "https://localhost:8080/",
     "height": 266.0,
     "output_extras": [
      {
       "item_id": 1.0
      }
     ]
    },
    "colab_type": "code",
    "executionInfo": {
     "elapsed": 662.0,
     "status": "ok",
     "timestamp": 1.521684430354E12,
     "user": {
      "displayName": "Tung Nguyen Dinh",
      "photoUrl": "//lh3.googleusercontent.com/-Nztn065aJ4Y/AAAAAAAAAAI/AAAAAAAAAAc/7mgFwNJ8bA0/s50-c-k-no/photo.jpg",
      "userId": "103251380706581023835"
     },
     "user_tz": -420.0
    },
    "id": "LOvJBHixb2TM",
    "outputId": "b7197bba-3b7f-4ce9-98e1-9bd80d8d5363"
   },
   "outputs": [],
   "source": [
    "plt.plot(acc_list[:, 0], acc_list[:, 1])\n",
    "plt.show()"
   ]
  },
  {
   "cell_type": "code",
   "execution_count": null,
   "metadata": {
    "colab": {
     "autoexec": {
      "startup": false,
      "wait_interval": 0.0
     },
     "base_uri": "https://localhost:8080/",
     "height": 34.0,
     "output_extras": [
      {
       "item_id": 1.0
      }
     ]
    },
    "colab_type": "code",
    "executionInfo": {
     "elapsed": 8969.0,
     "status": "ok",
     "timestamp": 1.521699925012E12,
     "user": {
      "displayName": "Tung Nguyen Dinh",
      "photoUrl": "//lh3.googleusercontent.com/-Nztn065aJ4Y/AAAAAAAAAAI/AAAAAAAAAAc/7mgFwNJ8bA0/s50-c-k-no/photo.jpg",
      "userId": "103251380706581023835"
     },
     "user_tz": -420.0
    },
    "id": "tjo3g7Y2fF5C",
    "outputId": "161cfa2e-23f2-4811-a394-d6b5ef6ae4b4"
   },
   "outputs": [],
   "source": [
    "x_test_batch, y_test_batch = random_batch(x_test, y_test, 10000)\n",
    "logits = model(x_test_batch)\n",
    "get_accuracy(logits, y_test_batch, test=True)"
   ]
  },
  {
   "cell_type": "code",
   "execution_count": null,
   "metadata": {
    "colab": {
     "autoexec": {
      "startup": false,
      "wait_interval": 0.0
     }
    },
    "colab_type": "code",
    "id": "ROhG2mcOL4ZT"
   },
   "outputs": [],
   "source": [
    "# Remember track_layer in model\n",
    "# Check variable: model.variables\n",
    "# tfe.save_network_checkpoint(model,'./Models/cnn_model.ckpt')"
   ]
  },
  {
   "cell_type": "code",
   "execution_count": null,
   "metadata": {
    "colab": {
     "autoexec": {
      "startup": false,
      "wait_interval": 0.0
     },
     "base_uri": "https://localhost:8080/",
     "height": 34.0,
     "output_extras": [
      {
       "item_id": 1.0
      }
     ]
    },
    "colab_type": "code",
    "executionInfo": {
     "elapsed": 957.0,
     "status": "ok",
     "timestamp": 1.521699826565E12,
     "user": {
      "displayName": "Tung Nguyen Dinh",
      "photoUrl": "//lh3.googleusercontent.com/-Nztn065aJ4Y/AAAAAAAAAAI/AAAAAAAAAAc/7mgFwNJ8bA0/s50-c-k-no/photo.jpg",
      "userId": "103251380706581023835"
     },
     "user_tz": -420.0
    },
    "id": "Pa_OVcmS7mAj",
    "outputId": "88519443-d251-4afa-d5cd-ad6fed16d164"
   },
   "outputs": [],
   "source": [
    "# Run at least 1 round before reconstructing. \n",
    "# input = tf.random_normal((1, 784))\n",
    "# model = CNN_Model()\n",
    "# model(input) # intitiate variable\n",
    "# tfe.restore_network_checkpoint(model,'./Models/cnn_model.ckpt')"
   ]
  }
 ],
 "metadata": {
  "accelerator": "GPU",
  "colab": {
   "default_view": {},
   "name": "Train_CNN_Model.ipynb",
   "provenance": [],
   "version": "0.3.2",
   "views": {}
  },
  "kernelspec": {
   "display_name": "Python 3",
   "language": "python",
   "name": "python3"
  },
  "language_info": {
   "codemirror_mode": {
    "name": "ipython",
    "version": 3
   },
   "file_extension": ".py",
   "mimetype": "text/x-python",
   "name": "python",
   "nbconvert_exporter": "python",
   "pygments_lexer": "ipython3",
   "version": "3.5.2"
  }
 },
 "nbformat": 4,
 "nbformat_minor": 2
}
